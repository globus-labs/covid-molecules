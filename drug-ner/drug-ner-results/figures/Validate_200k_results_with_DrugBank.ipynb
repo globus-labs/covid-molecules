{
 "cells": [
  {
   "cell_type": "markdown",
   "metadata": {},
   "source": [
    "# Validate Extraction Results of the CORD 200k Corpus with DrugBank"
   ]
  },
  {
   "cell_type": "code",
   "execution_count": 1,
   "metadata": {},
   "outputs": [],
   "source": [
    "import matplotlib.pyplot as plt\n",
    "import pandas as pd\n",
    "import itertools\n",
    "import ast"
   ]
  },
  {
   "cell_type": "code",
   "execution_count": 2,
   "metadata": {},
   "outputs": [
    {
     "data": {
      "text/html": [
       "<div>\n",
       "<style scoped>\n",
       "    .dataframe tbody tr th:only-of-type {\n",
       "        vertical-align: middle;\n",
       "    }\n",
       "\n",
       "    .dataframe tbody tr th {\n",
       "        vertical-align: top;\n",
       "    }\n",
       "\n",
       "    .dataframe thead th {\n",
       "        text-align: right;\n",
       "    }\n",
       "</style>\n",
       "<table border=\"1\" class=\"dataframe\">\n",
       "  <thead>\n",
       "    <tr style=\"text-align: right;\">\n",
       "      <th></th>\n",
       "      <th>Entity</th>\n",
       "      <th>Keras-count</th>\n",
       "      <th>SpaCy-count</th>\n",
       "      <th>Total-count</th>\n",
       "    </tr>\n",
       "  </thead>\n",
       "  <tbody>\n",
       "    <tr>\n",
       "      <th>0</th>\n",
       "      <td>oxygen</td>\n",
       "      <td>90544.0</td>\n",
       "      <td>20556</td>\n",
       "      <td>111100</td>\n",
       "    </tr>\n",
       "    <tr>\n",
       "      <th>1</th>\n",
       "      <td>ribavirin</td>\n",
       "      <td>30356.0</td>\n",
       "      <td>31707</td>\n",
       "      <td>62063</td>\n",
       "    </tr>\n",
       "    <tr>\n",
       "      <th>2</th>\n",
       "      <td>chloroquine</td>\n",
       "      <td>28497.0</td>\n",
       "      <td>30802</td>\n",
       "      <td>59299</td>\n",
       "    </tr>\n",
       "    <tr>\n",
       "      <th>3</th>\n",
       "      <td>hydroxychloroquine</td>\n",
       "      <td>30532.0</td>\n",
       "      <td>27085</td>\n",
       "      <td>57617</td>\n",
       "    </tr>\n",
       "    <tr>\n",
       "      <th>4</th>\n",
       "      <td>remdesivir</td>\n",
       "      <td>21474.0</td>\n",
       "      <td>23250</td>\n",
       "      <td>44724</td>\n",
       "    </tr>\n",
       "  </tbody>\n",
       "</table>\n",
       "</div>"
      ],
      "text/plain": [
       "               Entity  Keras-count  SpaCy-count  Total-count\n",
       "0              oxygen      90544.0        20556       111100\n",
       "1           ribavirin      30356.0        31707        62063\n",
       "2         chloroquine      28497.0        30802        59299\n",
       "3  hydroxychloroquine      30532.0        27085        57617\n",
       "4          remdesivir      21474.0        23250        44724"
      ]
     },
     "execution_count": 2,
     "metadata": {},
     "output_type": "execute_result"
    }
   ],
   "source": [
    "df = pd.read_csv('cross_checked_combined_body_extraction_results_all.csv', header=0)\n",
    "df.head()"
   ]
  },
  {
   "cell_type": "code",
   "execution_count": 3,
   "metadata": {},
   "outputs": [
    {
     "data": {
      "text/html": [
       "<div>\n",
       "<style scoped>\n",
       "    .dataframe tbody tr th:only-of-type {\n",
       "        vertical-align: middle;\n",
       "    }\n",
       "\n",
       "    .dataframe tbody tr th {\n",
       "        vertical-align: top;\n",
       "    }\n",
       "\n",
       "    .dataframe thead th {\n",
       "        text-align: right;\n",
       "    }\n",
       "</style>\n",
       "<table border=\"1\" class=\"dataframe\">\n",
       "  <thead>\n",
       "    <tr style=\"text-align: right;\">\n",
       "      <th></th>\n",
       "      <th>type</th>\n",
       "      <th>drugbank_id</th>\n",
       "      <th>name</th>\n",
       "      <th>description</th>\n",
       "      <th>groups</th>\n",
       "      <th>atc_codes</th>\n",
       "      <th>categories</th>\n",
       "      <th>inchi</th>\n",
       "      <th>inchikey</th>\n",
       "      <th>aliases</th>\n",
       "    </tr>\n",
       "  </thead>\n",
       "  <tbody>\n",
       "    <tr>\n",
       "      <th>0</th>\n",
       "      <td>biotech</td>\n",
       "      <td>DB00001</td>\n",
       "      <td>Lepirudin</td>\n",
       "      <td>Lepirudin is identical to natural hirudin exce...</td>\n",
       "      <td>['approved']</td>\n",
       "      <td>['B01AE02']</td>\n",
       "      <td>['Amino Acids, Peptides, and Proteins', 'Antic...</td>\n",
       "      <td>NaN</td>\n",
       "      <td>NaN</td>\n",
       "      <td>['Lepirudin', 'Refludan']</td>\n",
       "    </tr>\n",
       "    <tr>\n",
       "      <th>1</th>\n",
       "      <td>biotech</td>\n",
       "      <td>DB00002</td>\n",
       "      <td>Cetuximab</td>\n",
       "      <td>Cetuximab is an epidermal growth factor recept...</td>\n",
       "      <td>['approved']</td>\n",
       "      <td>['L01XC06']</td>\n",
       "      <td>['Amino Acids, Peptides, and Proteins', 'Antib...</td>\n",
       "      <td>NaN</td>\n",
       "      <td>NaN</td>\n",
       "      <td>['Cetuximab', 'Erbitux']</td>\n",
       "    </tr>\n",
       "    <tr>\n",
       "      <th>2</th>\n",
       "      <td>biotech</td>\n",
       "      <td>DB00003</td>\n",
       "      <td>Dornase alfa</td>\n",
       "      <td>Dornase alfa is a biosynthetic form of human d...</td>\n",
       "      <td>['approved']</td>\n",
       "      <td>['R05CB13']</td>\n",
       "      <td>['Amino Acids, Peptides, and Proteins', 'Cough...</td>\n",
       "      <td>NaN</td>\n",
       "      <td>NaN</td>\n",
       "      <td>['\\n      ', 'Dornase alfa', 'Pulmozyme', 'Pul...</td>\n",
       "    </tr>\n",
       "    <tr>\n",
       "      <th>3</th>\n",
       "      <td>biotech</td>\n",
       "      <td>DB00004</td>\n",
       "      <td>Denileukin diftitox</td>\n",
       "      <td>A recombinant DNA-derived cytotoxic protein co...</td>\n",
       "      <td>['approved', 'investigational']</td>\n",
       "      <td>['L01XX29']</td>\n",
       "      <td>['ADP Ribose Transferases', 'Amino Acids, Pept...</td>\n",
       "      <td>NaN</td>\n",
       "      <td>NaN</td>\n",
       "      <td>['Denileukin diftitox', 'Ontak']</td>\n",
       "    </tr>\n",
       "    <tr>\n",
       "      <th>4</th>\n",
       "      <td>biotech</td>\n",
       "      <td>DB00005</td>\n",
       "      <td>Etanercept</td>\n",
       "      <td>Dimeric fusion protein consisting of the extra...</td>\n",
       "      <td>['approved', 'investigational']</td>\n",
       "      <td>['L04AB01']</td>\n",
       "      <td>['Agents reducing cytokine levels', 'Amino Aci...</td>\n",
       "      <td>NaN</td>\n",
       "      <td>NaN</td>\n",
       "      <td>['\\n      ', 'Brenzys', 'Enbrel', 'Erelzi', 'E...</td>\n",
       "    </tr>\n",
       "  </tbody>\n",
       "</table>\n",
       "</div>"
      ],
      "text/plain": [
       "      type drugbank_id                 name  \\\n",
       "0  biotech     DB00001            Lepirudin   \n",
       "1  biotech     DB00002            Cetuximab   \n",
       "2  biotech     DB00003         Dornase alfa   \n",
       "3  biotech     DB00004  Denileukin diftitox   \n",
       "4  biotech     DB00005           Etanercept   \n",
       "\n",
       "                                         description  \\\n",
       "0  Lepirudin is identical to natural hirudin exce...   \n",
       "1  Cetuximab is an epidermal growth factor recept...   \n",
       "2  Dornase alfa is a biosynthetic form of human d...   \n",
       "3  A recombinant DNA-derived cytotoxic protein co...   \n",
       "4  Dimeric fusion protein consisting of the extra...   \n",
       "\n",
       "                            groups    atc_codes  \\\n",
       "0                     ['approved']  ['B01AE02']   \n",
       "1                     ['approved']  ['L01XC06']   \n",
       "2                     ['approved']  ['R05CB13']   \n",
       "3  ['approved', 'investigational']  ['L01XX29']   \n",
       "4  ['approved', 'investigational']  ['L04AB01']   \n",
       "\n",
       "                                          categories inchi inchikey  \\\n",
       "0  ['Amino Acids, Peptides, and Proteins', 'Antic...   NaN      NaN   \n",
       "1  ['Amino Acids, Peptides, and Proteins', 'Antib...   NaN      NaN   \n",
       "2  ['Amino Acids, Peptides, and Proteins', 'Cough...   NaN      NaN   \n",
       "3  ['ADP Ribose Transferases', 'Amino Acids, Pept...   NaN      NaN   \n",
       "4  ['Agents reducing cytokine levels', 'Amino Aci...   NaN      NaN   \n",
       "\n",
       "                                             aliases  \n",
       "0                          ['Lepirudin', 'Refludan']  \n",
       "1                           ['Cetuximab', 'Erbitux']  \n",
       "2  ['\\n      ', 'Dornase alfa', 'Pulmozyme', 'Pul...  \n",
       "3                   ['Denileukin diftitox', 'Ontak']  \n",
       "4  ['\\n      ', 'Brenzys', 'Enbrel', 'Erelzi', 'E...  "
      ]
     },
     "execution_count": 3,
     "metadata": {},
     "output_type": "execute_result"
    }
   ],
   "source": [
    "df_db = pd.read_csv('drugbank-parsed.csv', header=0, index_col=0)\n",
    "df_db.head()"
   ]
  },
  {
   "cell_type": "code",
   "execution_count": 4,
   "metadata": {},
   "outputs": [
    {
     "name": "stdout",
     "output_type": "stream",
     "text": [
      "12112\n",
      "2650\n"
     ]
    }
   ],
   "source": [
    "print(len(df_db))\n",
    "df_db = df_db[df_db['atc_codes']!='[]']\n",
    "print(len(df_db))"
   ]
  },
  {
   "cell_type": "code",
   "execution_count": 5,
   "metadata": {},
   "outputs": [],
   "source": [
    "drug_names_lowercase = [drug.strip().lower() for drug in df_db['name']]\n",
    "_d = [drug.split(' ') for drug in drug_names_lowercase]\n",
    "drug_words_lowercase = [drug for drug in list(itertools.chain.from_iterable(_d))]\n",
    "drug_names_lowercase_dict = dict.fromkeys(drug_names_lowercase, \"T\")\n",
    "drug_words_lowercase_dict = dict.fromkeys(drug_words_lowercase, \"T\")\n",
    "\n",
    "_a = [ast.literal_eval(l) for l in list(df_db['aliases'])]\n",
    "alias_names_lowercase = [x.lower() for x in list(itertools.chain.from_iterable(_a)) if x[0] != '\\\\']\n",
    "_a = [alias.split(' ') for alias in alias_names_lowercase]\n",
    "alias_words_lowercase = [alias for alias in list(itertools.chain.from_iterable(_a))]\n",
    "alias_names_lowercase_dict = dict.fromkeys(alias_names_lowercase, 'T')\n",
    "alias_words_lowercase_dict = dict.fromkeys(alias_words_lowercase, 'T')\n",
    "\n",
    "all_names_lowercase_set = set(drug_names_lowercase_dict).union(set(alias_names_lowercase_dict))\n",
    "all_words_lowercase_set = set(drug_words_lowercase_dict).union(set(alias_words_lowercase_dict))"
   ]
  },
  {
   "cell_type": "code",
   "execution_count": 6,
   "metadata": {},
   "outputs": [],
   "source": [
    "def percentage_in_drugbank(l: list) -> tuple:\n",
    "    name_overlap = set(l).intersection(all_names_lowercase_set)\n",
    "    word_overlap = set(l).intersection(all_words_lowercase_set)\n",
    "    return name_overlap, word_overlap"
   ]
  },
  {
   "cell_type": "code",
   "execution_count": 7,
   "metadata": {},
   "outputs": [],
   "source": [
    "name_overlap_total = list()\n",
    "word_overlap_total = list()\n",
    "num_range = range(100, 1001, 100)\n",
    "for num in num_range:\n",
    "    name_overlap, word_overlap = percentage_in_drugbank(df['Entity'][:num])\n",
    "    name_overlap_total.append(len(name_overlap)/num*100)\n",
    "    word_overlap_total.append(len(word_overlap)/num*100)"
   ]
  },
  {
   "cell_type": "code",
   "execution_count": 8,
   "metadata": {},
   "outputs": [
    {
     "data": {
      "image/png": "[encoded data removed]",
      "text/plain": [
       "<Figure size 792x288 with 2 Axes>"
      ]
     },
     "metadata": {
      "needs_background": "light"
     },
     "output_type": "display_data"
    }
   ],
   "source": [
    "fig, (ax1, ax2) = plt.subplots(1, 2,figsize=(11,4))"
   ]
  },
  {
   "cell_type": "code",
   "execution_count": 9,
   "metadata": {},
   "outputs": [
    {
     "name": "stdout",
     "output_type": "stream",
     "text": [
      "[77.0, 72.5, 65.33333333333333, 61.75000000000001, 59.199999999999996, 55.833333333333336, 54.0, 51.625, 50.44444444444445, 48.0]\n",
      "[86.0, 82.5, 77.0, 75.0, 72.2, 70.16666666666667, 68.71428571428572, 66.375, 65.33333333333333, 63.0]\n"
     ]
    }
   ],
   "source": [
    "ax1.plot(num_range, name_overlap_total, 'o-', label='Full match')\n",
    "ax1.plot(num_range, word_overlap_total, '^-', label=\"Partial match\")\n",
    "ax1.set_xlabel('Top candidates')\n",
    "ax1.set_ylabel('Percent(%)')\n",
    "ax1.set_xticks(range(100, 1001, 100))\n",
    "ax1.text(0.5,-0.25, \"(a) All Entities\", size=12, ha=\"center\", transform=ax1.transAxes)\n",
    "ax1.legend(loc='best')\n",
    "print(name_overlap_total)\n",
    "print(word_overlap_total)"
   ]
  },
  {
   "cell_type": "code",
   "execution_count": 10,
   "metadata": {},
   "outputs": [
    {
     "name": "stdout",
     "output_type": "stream",
     "text": [
      "122779\n",
      "10580\n"
     ]
    }
   ],
   "source": [
    "print(len(df))\n",
    "df2 = df[(0.1 < df['Keras-count']/df['SpaCy-count']) & (df['Keras-count']/df['SpaCy-count'] < 10)]\n",
    "print(len(df2))"
   ]
  },
  {
   "cell_type": "code",
   "execution_count": 11,
   "metadata": {},
   "outputs": [],
   "source": [
    "name_overlap_balanced = list()\n",
    "word_overlap_balanced = list()\n",
    "num_range = range(100, 1001, 100)\n",
    "for num in num_range:\n",
    "    name_overlap, word_overlap = percentage_in_drugbank(df2['Entity'][:num])\n",
    "    name_overlap_balanced.append(len(name_overlap)/num*100)\n",
    "    word_overlap_balanced.append(len(word_overlap)/num*100)"
   ]
  },
  {
   "cell_type": "code",
   "execution_count": 12,
   "metadata": {},
   "outputs": [
    {
     "name": "stdout",
     "output_type": "stream",
     "text": [
      "[88.0, 84.5, 81.33333333333333, 79.75, 76.2, 73.5, 72.57142857142857, 70.625, 68.55555555555556, 65.7]\n",
      "[91.0, 87.5, 84.66666666666667, 83.0, 80.80000000000001, 78.0, 76.71428571428571, 74.75, 72.66666666666667, 69.6]\n"
     ]
    }
   ],
   "source": [
    "ax2.plot(num_range, name_overlap_balanced, 'o-', label='Full match')\n",
    "ax2.plot(num_range, word_overlap_balanced, '^-', label=\"Partial match\")\n",
    "ax2.set_xlabel('Top candidates')\n",
    "ax2.set_ylabel('Percent(%)')\n",
    "ax2.set_xticks(range(100, 1001, 100))\n",
    "ax2.legend(loc='best')\n",
    "ax2.text(0.5,-0.25, \"(b) Balanced Entities\", size=12, ha=\"center\", transform=ax2.transAxes)\n",
    "print(name_overlap_balanced)\n",
    "print(word_overlap_balanced)"
   ]
  },
  {
   "cell_type": "code",
   "execution_count": 13,
   "metadata": {},
   "outputs": [
    {
     "data": {
      "image/png": "[encoded data removed]",
      "text/plain": [
       "<Figure size 792x288 with 2 Axes>"
      ]
     },
     "execution_count": 13,
     "metadata": {},
     "output_type": "execute_result"
    }
   ],
   "source": [
    "fig"
   ]
  },
  {
   "cell_type": "code",
   "execution_count": 15,
   "metadata": {},
   "outputs": [],
   "source": [
    "fig.savefig('cmp_to_drugbank.pdf', \n",
    "            bbox_inches = \"tight\") # set bbox_inches to 'tight' to avoid bottom texts being chopped off"
   ]
  }
 ],
 "metadata": {
  "kernelspec": {
   "display_name": "Python [conda env:tf_keras]",
   "language": "python",
   "name": "conda-env-tf_keras-py"
  },
  "language_info": {
   "codemirror_mode": {
    "name": "ipython",
    "version": 3
   },
   "file_extension": ".py",
   "mimetype": "text/x-python",
   "name": "python",
   "nbconvert_exporter": "python",
   "pygments_lexer": "ipython3",
   "version": "3.7.3"
  }
 },
 "nbformat": 4,
 "nbformat_minor": 4
}
