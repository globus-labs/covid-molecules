{
 "cells": [
  {
   "cell_type": "markdown",
   "metadata": {},
   "source": [
    "## RDKit: Simple Visualization of Molecules in Argonne COVID19 Molecule Dataset"
   ]
  },
  {
   "cell_type": "code",
   "execution_count": 6,
   "metadata": {},
   "outputs": [],
   "source": [
    "import pandas as pd\n",
    "from rdkit.Chem.Draw import IPythonConsole\n",
    "from rdkit import Chem"
   ]
  },
  {
   "cell_type": "code",
   "execution_count": 2,
   "metadata": {},
   "outputs": [
    {
     "data": {
      "text/html": [
       "<div>\n",
       "<style scoped>\n",
       "    .dataframe tbody tr th:only-of-type {\n",
       "        vertical-align: middle;\n",
       "    }\n",
       "\n",
       "    .dataframe tbody tr th {\n",
       "        vertical-align: top;\n",
       "    }\n",
       "\n",
       "    .dataframe thead th {\n",
       "        text-align: right;\n",
       "    }\n",
       "</style>\n",
       "<table border=\"1\" class=\"dataframe\">\n",
       "  <thead>\n",
       "    <tr style=\"text-align: right;\">\n",
       "      <th></th>\n",
       "      <th>molecule</th>\n",
       "      <th>virus</th>\n",
       "      <th>reference</th>\n",
       "      <th>type</th>\n",
       "      <th>smiles</th>\n",
       "      <th>pubchem_id</th>\n",
       "      <th>similarity_calculated</th>\n",
       "      <th>Unnamed: 7</th>\n",
       "      <th>Unnamed: 8</th>\n",
       "    </tr>\n",
       "  </thead>\n",
       "  <tbody>\n",
       "    <tr>\n",
       "      <th>0</th>\n",
       "      <td>Remdesivir</td>\n",
       "      <td>SARS-CoV-2</td>\n",
       "      <td>10.1038/s41422-020-0282-0</td>\n",
       "      <td>experimental</td>\n",
       "      <td>CCC(COC(=O)C(NP(=O)(Oc1ccccc1)OCC1OC(C(C1O)O)(...</td>\n",
       "      <td>121304016.0</td>\n",
       "      <td>1</td>\n",
       "      <td>NaN</td>\n",
       "      <td>NaN</td>\n",
       "    </tr>\n",
       "    <tr>\n",
       "      <th>1</th>\n",
       "      <td>Chloroquine</td>\n",
       "      <td>SARS-CoV-2</td>\n",
       "      <td>10.1038/s41422-020-0282-0</td>\n",
       "      <td>experimental</td>\n",
       "      <td>CCN(CCCC(Nc1ccnc2c1ccc(c2)Cl)C)CC</td>\n",
       "      <td>2719.0</td>\n",
       "      <td>1</td>\n",
       "      <td>NaN</td>\n",
       "      <td>NaN</td>\n",
       "    </tr>\n",
       "    <tr>\n",
       "      <th>2</th>\n",
       "      <td>Nitazoxanide</td>\n",
       "      <td>SARS-CoV-2</td>\n",
       "      <td>10.1038/s41422-020-0282-0</td>\n",
       "      <td>experimental</td>\n",
       "      <td>CC(=O)Oc1ccccc1C(=O)Nc1ncc(s1)[N+](=O)[O-]</td>\n",
       "      <td>41684.0</td>\n",
       "      <td>1</td>\n",
       "      <td>NaN</td>\n",
       "      <td>NaN</td>\n",
       "    </tr>\n",
       "    <tr>\n",
       "      <th>3</th>\n",
       "      <td>Nafamostat</td>\n",
       "      <td>SARS-CoV-2</td>\n",
       "      <td>10.1038/s41422-020-0282-0</td>\n",
       "      <td>experimental</td>\n",
       "      <td>NC(=Nc1ccc(cc1)C(=O)Oc1ccc2c(c1)ccc(c2)C(=N)N)N</td>\n",
       "      <td>4413.0</td>\n",
       "      <td>1</td>\n",
       "      <td>NaN</td>\n",
       "      <td>NaN</td>\n",
       "    </tr>\n",
       "    <tr>\n",
       "      <th>4</th>\n",
       "      <td>penciclovir</td>\n",
       "      <td>SARS-CoV-2</td>\n",
       "      <td>10.1038/s41422-020-0282-0</td>\n",
       "      <td>experimental</td>\n",
       "      <td>OCC(CCn1cnc2c1nc(N)[nH]c2=O)CO</td>\n",
       "      <td>135398748.0</td>\n",
       "      <td>1</td>\n",
       "      <td>NaN</td>\n",
       "      <td>NaN</td>\n",
       "    </tr>\n",
       "  </tbody>\n",
       "</table>\n",
       "</div>"
      ],
      "text/plain": [
       "       molecule       virus                  reference          type  \\\n",
       "0    Remdesivir  SARS-CoV-2  10.1038/s41422-020-0282-0  experimental   \n",
       "1   Chloroquine  SARS-CoV-2  10.1038/s41422-020-0282-0  experimental   \n",
       "2  Nitazoxanide  SARS-CoV-2  10.1038/s41422-020-0282-0  experimental   \n",
       "3    Nafamostat  SARS-CoV-2  10.1038/s41422-020-0282-0  experimental   \n",
       "4   penciclovir  SARS-CoV-2  10.1038/s41422-020-0282-0  experimental   \n",
       "\n",
       "                                              smiles   pubchem_id  \\\n",
       "0  CCC(COC(=O)C(NP(=O)(Oc1ccccc1)OCC1OC(C(C1O)O)(...  121304016.0   \n",
       "1                  CCN(CCCC(Nc1ccnc2c1ccc(c2)Cl)C)CC       2719.0   \n",
       "2         CC(=O)Oc1ccccc1C(=O)Nc1ncc(s1)[N+](=O)[O-]      41684.0   \n",
       "3    NC(=Nc1ccc(cc1)C(=O)Oc1ccc2c(c1)ccc(c2)C(=N)N)N       4413.0   \n",
       "4                     OCC(CCn1cnc2c1nc(N)[nH]c2=O)CO  135398748.0   \n",
       "\n",
       "   similarity_calculated Unnamed: 7 Unnamed: 8  \n",
       "0                      1        NaN        NaN  \n",
       "1                      1        NaN        NaN  \n",
       "2                      1        NaN        NaN  \n",
       "3                      1        NaN        NaN  \n",
       "4                      1        NaN        NaN  "
      ]
     },
     "execution_count": 2,
     "metadata": {},
     "output_type": "execute_result"
    }
   ],
   "source": [
    "covid_df = pd.read_csv('literature_molecules_v0.9.csv')\n",
    "covid_df.head()"
   ]
  },
  {
   "cell_type": "code",
   "execution_count": 5,
   "metadata": {},
   "outputs": [
    {
     "name": "stdout",
     "output_type": "stream",
     "text": [
      "CCC(COC(=O)C(NP(=O)(Oc1ccccc1)OCC1OC(C(C1O)O)(C#N)c1ccc2n1ncnc2N)C)CC\n"
     ]
    }
   ],
   "source": [
    "smiles_ex = covid_df.iloc[0].smiles"
   ]
  },
  {
   "cell_type": "code",
   "execution_count": 8,
   "metadata": {},
   "outputs": [
    {
     "name": "stdout",
     "output_type": "stream",
     "text": [
      "Remdesivir\n"
     ]
    },
    {
     "data": {
      "image/png": "[encoded data removed]",
      "text/plain": [
       "<rdkit.Chem.rdchem.Mol at 0x11d4c8170>"
      ]
     },
     "execution_count": 8,
     "metadata": {},
     "output_type": "execute_result"
    }
   ],
   "source": [
    "mol = Chem.MolFromSmiles(smiles_ex)\n",
    "print(covid_df.iloc[0].molecule)\n",
    "mol"
   ]
  },
  {
   "cell_type": "code",
   "execution_count": null,
   "metadata": {},
   "outputs": [],
   "source": []
  }
 ],
 "metadata": {
  "kernelspec": {
   "display_name": "Python 3",
   "language": "python",
   "name": "python3"
  },
  "language_info": {
   "codemirror_mode": {
    "name": "ipython",
    "version": 3
   },
   "file_extension": ".py",
   "mimetype": "text/x-python",
   "name": "python",
   "nbconvert_exporter": "python",
   "pygments_lexer": "ipython3",
   "version": "3.7.2"
  }
 },
 "nbformat": 4,
 "nbformat_minor": 2
}
